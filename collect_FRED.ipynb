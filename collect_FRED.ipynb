{
 "cells": [
  {
   "cell_type": "code",
   "execution_count": null,
   "metadata": {},
   "outputs": [],
   "source": [
    "import pandas as pd\n",
    "import numpy as np\n",
    "import scipy\n",
    "from scipy import stats\n",
    "import re\n",
    "import plotly.express as px\n",
    "import config\n",
    "from fredapi import Fred\n",
    "import os\n",
    "import shutil\n",
    "from fpdf import FPDF\n",
    "\n",
    "# User will need a FRED API key, can sign up for one here https://fred.stlouisfed.org/docs/api/api_key.html\n",
    "# replace with your own API key: fred = Fred(api_key='YOUR KEY HERE')\n",
    "fred = Fred(api_key=config.api_key)"
   ]
  },
  {
   "cell_type": "code",
   "execution_count": null,
   "metadata": {},
   "outputs": [],
   "source": [
    "from datetime import datetime, timedelta, date\n",
    "\n",
    "class plot_obj:\n",
    "  def __init__(self, df, title, units, notes, years_back, height = 400, width = 900):\n",
    "    \n",
    "    end_date_plot = df.index.max()\n",
    "    start_date_plot = end_date_plot - timedelta(days = (365*years_back))\n",
    "    self.df = df.loc[start_date_plot:end_date_plot]\n",
    "    \n",
    "    self.title = title\n",
    "    self.units = units\n",
    "    self.notes = notes\n",
    "    self.height = height\n",
    "    self.width = width\n",
    "    \n",
    "  \n",
    "  def plot_clean(self):\n",
    "    colnames = self.df.columns\n",
    "    fig = px.line(self.df, x=self.df.index, y=colnames, title=self.title, template=\"plotly_white\", width = self.width, height = self.height )\n",
    "    fig.update_layout(\n",
    "        \n",
    "        font_family=\"Georgia\",\n",
    "        font_color=\"black\",\n",
    "        yaxis_title = self.units,\n",
    "        xaxis_title = \"Date\"\n",
    "    )\n",
    "    fig.update_traces(connectgaps=True)\n",
    "    fig.update_traces(line_color='#437070', line_width=2)\n",
    "    fig.update_layout(showlegend=False)\n",
    "    return fig\n",
    "\n"
   ]
  },
  {
   "cell_type": "code",
   "execution_count": null,
   "metadata": {},
   "outputs": [],
   "source": [
    "#Define a function to retrieve series, store as objects, and plot data \n",
    "def fredget(varlist,start_date, end_date, plots=True,freq=\"\",name_map = dict()):\n",
    "    df_collect = pd.DataFrame()\n",
    "    plot_obs = list()\n",
    "    idx = 0\n",
    "    \n",
    "    PLOT_DIR = 'plots/fredget'\n",
    "    if plots == True:\n",
    "        try:\n",
    "            shutil.rmtree(PLOT_DIR)\n",
    "            os.mkdir(PLOT_DIR)\n",
    "        except FileNotFoundError:\n",
    "            os.mkdir(PLOT_DIR)\n",
    "        \n",
    "    for var in varlist:\n",
    "        #series_add = fred.get_series(var, observation_start=s_d, observation_end=e_d,frequency ='m')\n",
    "        df_add = fred.get_series(var, observation_start = start_date, observation_end=end_date, frequency =freq).to_frame(name = var)\n",
    "        info_add = fred.get_series_info(var).to_frame(name = var)\n",
    "        \n",
    "        if var in name_map:\n",
    "            info_add.loc['title', var] = name_map[var]\n",
    "            \n",
    "        plot_obs.append(plot_obj(df_add, info_add.loc['title', var], info_add.loc['units', var] ,\"notes\",5))\n",
    "        \n",
    "        print(var)\n",
    "        if plots == True:\n",
    "            #df_add.plot(y=var, use_index=True, kind='line', title = info_add.loc['title', var], ylabel = info_add.loc['units', var] )\n",
    "            fig = plot_obs[idx].plot_clean()\n",
    "            fig.show()\n",
    "            fig.write_image(f\"{PLOT_DIR}/fig{idx}.png\",scale=3, width=900, height=400)\n",
    "\n",
    "            \n",
    "        idx = idx + 1 \n",
    "        if df_collect.empty == True:\n",
    "            df_collect = df_add\n",
    "            info_store = info_add\n",
    "        else:\n",
    "            df_collect = pd.merge(df_collect, df_add, left_index=True, right_index=True, how='outer')\n",
    "            info_store = pd.merge(info_store, info_add, left_index=True, right_index=True, how='left')\n",
    "            \n",
    "    df_collect.sort_index()\n",
    "    return df_collect,info_store\n",
    "\n"
   ]
  },
  {
   "cell_type": "code",
   "execution_count": null,
   "metadata": {},
   "outputs": [],
   "source": [
    "#############################################\n",
    "#Set Options Here:\n",
    "start_d ='1982-01-01'\n",
    "end_d='2023-02-03'\n",
    "freq = \"m\" #THIS IS OPTIONAL, can leave blank\n",
    "#List codes to search for \n",
    "FRED_list = ['T10Y2Y','WALCL','EFFR','SP500','MORTGAGE30US','BAMLH0A0HYM2']\n",
    "\n",
    "Name_remap = {'T10Y2Y': '10-Year Minus 2-Year Treasury', 'WALCL': 'Reserve Balances: Total Assets'}\n",
    "#############################################\n",
    "\n",
    "#Optional inputs: plots = True\n",
    "df,dfinfo = fredget(FRED_list,start_d,end_d,name_map = Name_remap)"
   ]
  },
  {
   "cell_type": "code",
   "execution_count": 70,
   "metadata": {},
   "outputs": [],
   "source": [
    "#CODE BORROWED FROM THIS MEDIUM ARTICLE:\n",
    "#LINK: https://towardsdatascience.com/how-to-create-pdf-reports-with-python-the-essential-guide-c08dd3ebf2ee\n",
    "\n",
    "class PDF(FPDF):\n",
    "    def __init__(self):\n",
    "        super().__init__()\n",
    "        self.WIDTH = 210\n",
    "        self.HEIGHT = 297\n",
    "        \n",
    "    def header(self):\n",
    "        # Custom logo and positioning\n",
    "        # Create an `assets` folder and put any wide and short image inside\n",
    "        # Name the image `logo.png`\n",
    "        self.image('assets/logo.png', 10, 8, 50)\n",
    "        self.set_font('Times', 'B', 12)\n",
    "        self.cell(self.WIDTH - 80)\n",
    "        self.cell(60, 16, 'Financial Markets Overview', 0, 0, 'R')\n",
    "        self.ln(20)\n",
    "        \n",
    "    def footer(self):\n",
    "        # Page numbers in the footer\n",
    "        self.set_y(-15)\n",
    "        self.set_font('Arial', 'I', 12)\n",
    "        self.set_text_color(128)\n",
    "        self.cell(0, 10, 'Page ' + str(self.page_no()), 0, 0, 'C')\n",
    "\n",
    "    def page_body(self, images):\n",
    "        # Determine how many plots there are per page and set positions\n",
    "        # and margins accordingly\n",
    "        if len(images) == 3:\n",
    "            self.image(images[0], 15, 25, self.WIDTH - 30)\n",
    "            self.image(images[1], 15, self.WIDTH / 2 + 5, self.WIDTH - 30)\n",
    "            self.image(images[2], 15, self.WIDTH / 2 + 90, self.WIDTH - 30)\n",
    "        elif len(images) == 2:\n",
    "            self.image(images[0], 15, 25, self.WIDTH - 30)\n",
    "            self.image(images[1], 15, self.WIDTH / 2 + 5, self.WIDTH - 30)\n",
    "        else:\n",
    "            self.image(images[0], 15, 25, self.WIDTH - 30)\n",
    "            \n",
    "    def print_page(self, images):\n",
    "        # Generates the report\n",
    "        self.add_page()\n",
    "        self.page_body(images)"
   ]
  },
  {
   "cell_type": "code",
   "execution_count": 71,
   "metadata": {},
   "outputs": [
    {
     "data": {
      "text/plain": [
       "''"
      ]
     },
     "execution_count": 71,
     "metadata": {},
     "output_type": "execute_result"
    }
   ],
   "source": [
    "pdf = PDF()\n",
    "\n",
    "plots_per_page = [['plots/fredget/fig0.png','plots/fredget/fig1.png','plots/fredget/fig2.png'],\n",
    "                  ['plots/fredget/fig3.png','plots/fredget/fig4.png','plots/fredget/fig5.png']]\n",
    "for elem in plots_per_page:\n",
    "    pdf.print_page(elem)\n",
    "    \n",
    "pdf.output('MacroReport.pdf', 'F')"
   ]
  }
 ],
 "metadata": {
  "kernelspec": {
   "display_name": "Python 3.9.12 ('base')",
   "language": "python",
   "name": "python3"
  },
  "language_info": {
   "codemirror_mode": {
    "name": "ipython",
    "version": 3
   },
   "file_extension": ".py",
   "mimetype": "text/x-python",
   "name": "python",
   "nbconvert_exporter": "python",
   "pygments_lexer": "ipython3",
   "version": "3.9.12"
  },
  "orig_nbformat": 4,
  "vscode": {
   "interpreter": {
    "hash": "bb21f767a211495abec8bf77423259a843a4f607ac418d71c8e2c640fac1142a"
   }
  }
 },
 "nbformat": 4,
 "nbformat_minor": 2
}
